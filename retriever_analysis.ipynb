{
 "cells": [
  {
   "cell_type": "code",
   "execution_count": 1,
   "metadata": {},
   "outputs": [
    {
     "data": {
      "text/plain": [
       " 1    301\n",
       "-1     46\n",
       " 0     26\n",
       "Name: setup, dtype: int64"
      ]
     },
     "execution_count": 1,
     "metadata": {},
     "output_type": "execute_result"
    }
   ],
   "source": [
    "import pandas as pd\n",
    "\n",
    "retriever_sample = pd.read_csv(\n",
    "    \"data/retriever_sample.csv\", low_memory=False, keep_default_na=False\n",
    ")\n",
    "retriever_sample[\"setup\"].value_counts()"
   ]
  },
  {
   "cell_type": "code",
   "execution_count": 2,
   "metadata": {},
   "outputs": [
    {
     "data": {
      "text/plain": [
       " 1      315\n",
       " 2       34\n",
       "-1        8\n",
       " 4        7\n",
       " 3        3\n",
       " 7        2\n",
       " 13       1\n",
       " 16       1\n",
       " 5        1\n",
       " 290      1\n",
       "Name: rank, dtype: int64"
      ]
     },
     "execution_count": 2,
     "metadata": {},
     "output_type": "execute_result"
    }
   ],
   "source": [
    "retriever_sample[\"rank\"].value_counts()"
   ]
  },
  {
   "cell_type": "code",
   "execution_count": 3,
   "metadata": {},
   "outputs": [
    {
     "data": {
      "text/plain": [
       " 1    360\n",
       " 0      7\n",
       "-1      6\n",
       "Name: first, dtype: int64"
      ]
     },
     "execution_count": 3,
     "metadata": {},
     "output_type": "execute_result"
    }
   ],
   "source": [
    "retriever_sample[\"first\"].value_counts()"
   ]
  },
  {
   "cell_type": "code",
   "execution_count": 4,
   "metadata": {},
   "outputs": [
    {
     "data": {
      "text/plain": [
       "(12367, 12375)"
      ]
     },
     "execution_count": 4,
     "metadata": {},
     "output_type": "execute_result"
    }
   ],
   "source": [
    "import json\n",
    "import pandas as pd\n",
    "\n",
    "retriever_sample = pd.read_csv(\n",
    "    \"data/retriever_dataset.csv\", low_memory=False, keep_default_na=False\n",
    ")\n",
    "final = json.load(open(\"data/retriever_sample_final.json\"))\n",
    "retriever_sample[\"final\"] = retriever_sample[\"name\"].map(final).fillna(\"\")\n",
    "len(final), len(retriever_sample)"
   ]
  },
  {
   "cell_type": "code",
   "execution_count": 6,
   "metadata": {},
   "outputs": [],
   "source": [
    "from Levenshtein import ratio\n",
    "import re\n",
    "\n",
    "sub_pattern = re.compile(r\"[^a-zA-Z0-9]\")\n",
    "\n",
    "\n",
    "def cal_ratio(x):\n",
    "    name = x[\"name\"]\n",
    "    final = x[\"final\"]\n",
    "    if final == \"\":\n",
    "        return -1\n",
    "    user, repo = final.split(\"/\")[-2:]\n",
    "    ratio1 = ratio(sub_pattern.sub(\"\", name), sub_pattern.sub(\"\", repo))\n",
    "    ratio2 = ratio(sub_pattern.sub(\"\", name), sub_pattern.sub(\"\", user + repo))\n",
    "    return max(ratio1, ratio2)\n",
    "\n",
    "\n",
    "retriever_sample[\"ratio\"] = retriever_sample.apply(cal_ratio, axis=1)"
   ]
  },
  {
   "cell_type": "code",
   "execution_count": 7,
   "metadata": {},
   "outputs": [
    {
     "name": "stdout",
     "output_type": "stream",
     "text": [
      "0.0 12202 0.986020202020202 11353 0.9304212424192755\n",
      "0.1 12185 0.9846464646464647 11351 0.9315551908083709\n",
      "0.2 12074 0.9756767676767677 11334 0.9387112804373033\n",
      "0.3 11808 0.9541818181818181 11261 0.9536754742547425\n",
      "0.4 11476 0.9273535353535354 11078 0.9653189264552109\n",
      "0.5 11165 0.9022222222222223 10834 0.9703537841468876\n",
      "0.6 10845 0.8763636363636363 10576 0.9751959428307976\n",
      "0.7 10429 0.8427474747474748 10205 0.9785214306261386\n",
      "0.8 9935 0.8028282828282828 9760 0.9823855057876195\n",
      "0.9 9505 0.768080808080808 9365 0.9852709100473435\n",
      "1.0 9370 0.7571717171717172 9243 0.9864461045891142\n"
     ]
    }
   ],
   "source": [
    "for i in range(11):\n",
    "    ratio = i / 10\n",
    "    retrieved = retriever_sample[(retriever_sample[\"ratio\"] >= ratio)]\n",
    "    retrieved_correct = retriever_sample[\n",
    "        (retriever_sample[\"ratio\"] >= ratio)\n",
    "        & (retriever_sample[\"repo_url\"] == retriever_sample[\"final\"])\n",
    "    ]\n",
    "    print(\n",
    "        ratio,\n",
    "        len(retrieved),\n",
    "        len(retrieved) / len(retriever_sample),\n",
    "        len(retrieved_correct),\n",
    "        len(retrieved_correct) / len(retrieved),\n",
    "    )"
   ]
  },
  {
   "cell_type": "code",
   "execution_count": 9,
   "metadata": {},
   "outputs": [
    {
     "name": "stdout",
     "output_type": "stream",
     "text": [
      "81751\n"
     ]
    },
    {
     "data": {
      "text/html": [
       "<div>\n",
       "<style scoped>\n",
       "    .dataframe tbody tr th:only-of-type {\n",
       "        vertical-align: middle;\n",
       "    }\n",
       "\n",
       "    .dataframe tbody tr th {\n",
       "        vertical-align: top;\n",
       "    }\n",
       "\n",
       "    .dataframe thead th {\n",
       "        text-align: right;\n",
       "    }\n",
       "</style>\n",
       "<table border=\"1\" class=\"dataframe\">\n",
       "  <thead>\n",
       "    <tr style=\"text-align: right;\">\n",
       "      <th></th>\n",
       "      <th>name</th>\n",
       "      <th>version</th>\n",
       "      <th>metadata_retriever</th>\n",
       "      <th>final</th>\n",
       "    </tr>\n",
       "  </thead>\n",
       "  <tbody>\n",
       "    <tr>\n",
       "      <th>0</th>\n",
       "      <td>able</td>\n",
       "      <td>0.3.3</td>\n",
       "      <td></td>\n",
       "      <td></td>\n",
       "    </tr>\n",
       "    <tr>\n",
       "      <th>1</th>\n",
       "      <td>tapdance</td>\n",
       "      <td>0.9.9.dev265</td>\n",
       "      <td></td>\n",
       "      <td>https://github.com/dataops-tk/tapdance</td>\n",
       "    </tr>\n",
       "    <tr>\n",
       "      <th>2</th>\n",
       "      <td>dash-mp-components</td>\n",
       "      <td>0.3.42</td>\n",
       "      <td></td>\n",
       "      <td>https://github.com/materialsproject/dash-mp-co...</td>\n",
       "    </tr>\n",
       "    <tr>\n",
       "      <th>3</th>\n",
       "      <td>dbt-cratedb</td>\n",
       "      <td>0.20.0a65</td>\n",
       "      <td></td>\n",
       "      <td>https://github.com/usnistgov/dft-crossfilter</td>\n",
       "    </tr>\n",
       "    <tr>\n",
       "      <th>4</th>\n",
       "      <td>metaphor-models</td>\n",
       "      <td>0.5.4</td>\n",
       "      <td></td>\n",
       "      <td></td>\n",
       "    </tr>\n",
       "  </tbody>\n",
       "</table>\n",
       "</div>"
      ],
      "text/plain": [
       "                 name       version metadata_retriever  \\\n",
       "0                able         0.3.3                      \n",
       "1            tapdance  0.9.9.dev265                      \n",
       "2  dash-mp-components        0.3.42                      \n",
       "3         dbt-cratedb     0.20.0a65                      \n",
       "4     metaphor-models         0.5.4                      \n",
       "\n",
       "                                               final  \n",
       "0                                                     \n",
       "1             https://github.com/dataops-tk/tapdance  \n",
       "2  https://github.com/materialsproject/dash-mp-co...  \n",
       "3       https://github.com/usnistgov/dft-crossfilter  \n",
       "4                                                     "
      ]
     },
     "execution_count": 9,
     "metadata": {},
     "output_type": "execute_result"
    }
   ],
   "source": [
    "import pandas as pd\n",
    "\n",
    "df = pd.read_csv(\n",
    "    \"data/retriever_dataset_remaining.csv\", low_memory=False, keep_default_na=False\n",
    ")\n",
    "print(len(df))\n",
    "df.head()"
   ]
  },
  {
   "cell_type": "code",
   "execution_count": 10,
   "metadata": {},
   "outputs": [],
   "source": [
    "from Levenshtein import ratio\n",
    "import re\n",
    "\n",
    "sub_pattern = re.compile(r\"[^a-zA-Z0-9]\")\n",
    "\n",
    "\n",
    "def cal_ratio(x):\n",
    "    name = x[\"name\"]\n",
    "    final = x[\"final\"]\n",
    "    if final == \"\":\n",
    "        return -1\n",
    "    user, repo = final.split(\"/\")[-2:]\n",
    "    ratio1 = ratio(sub_pattern.sub(\"\", name), sub_pattern.sub(\"\", repo))\n",
    "    ratio2 = ratio(sub_pattern.sub(\"\", name), sub_pattern.sub(\"\", user + repo))\n",
    "    return max(ratio1, ratio2)\n",
    "\n",
    "\n",
    "df[\"ratio\"] = df.apply(cal_ratio, axis=1)"
   ]
  },
  {
   "cell_type": "code",
   "execution_count": 11,
   "metadata": {},
   "outputs": [
    {
     "name": "stdout",
     "output_type": "stream",
     "text": [
      "0.0 52359\n",
      "0.1 51957\n",
      "0.2 49266\n",
      "0.3 41727\n",
      "0.4 34744\n",
      "0.5 32139\n",
      "0.6 29966\n",
      "0.7 27755\n",
      "0.8 25364\n",
      "0.9 23134\n",
      "1.0 22190\n"
     ]
    }
   ],
   "source": [
    "for i in range(11):\n",
    "    ratio = i / 10\n",
    "    print(ratio, len(df[df[\"ratio\"] >= ratio]))"
   ]
  },
  {
   "cell_type": "code",
   "execution_count": 13,
   "metadata": {},
   "outputs": [],
   "source": [
    "df[df[\"ratio\"] >= 0.5][[\"name\", \"version\", \"final\"]].sample(\n",
    "    100, random_state=42\n",
    ").to_csv(\"data/retriever_evaluation.csv\", index=False)"
   ]
  },
  {
   "cell_type": "code",
   "execution_count": 16,
   "metadata": {},
   "outputs": [
    {
     "data": {
      "text/plain": [
       "Correct      90\n",
       "Incorrect    10\n",
       "Name: label, dtype: int64"
      ]
     },
     "execution_count": 16,
     "metadata": {},
     "output_type": "execute_result"
    }
   ],
   "source": [
    "evaluation_df = pd.read_csv(\"data/retriever_evaluation.csv\", keep_default_na=False)\n",
    "evaluation_df[\"label\"].value_counts()"
   ]
  },
  {
   "cell_type": "code",
   "execution_count": null,
   "metadata": {},
   "outputs": [],
   "source": []
  }
 ],
 "metadata": {
  "kernelspec": {
   "display_name": "radar",
   "language": "python",
   "name": "python3"
  },
  "language_info": {
   "codemirror_mode": {
    "name": "ipython",
    "version": 3
   },
   "file_extension": ".py",
   "mimetype": "text/x-python",
   "name": "python",
   "nbconvert_exporter": "python",
   "pygments_lexer": "ipython3",
   "version": "3.11.3"
  },
  "orig_nbformat": 4
 },
 "nbformat": 4,
 "nbformat_minor": 2
}
