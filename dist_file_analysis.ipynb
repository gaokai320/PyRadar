{
 "cells": [
  {
   "cell_type": "code",
   "execution_count": 1,
   "metadata": {},
   "outputs": [
    {
     "name": "stdout",
     "output_type": "stream",
     "text": [
      "7685017\n",
      "7657061\n"
     ]
    }
   ],
   "source": [
    "from pymongo import MongoClient\n",
    "import pandas as pd\n",
    "\n",
    "dist_file_info = MongoClient(\"127.0.0.1\", 27017)[\"radar\"][\"distribution_file_info\"]\n",
    "df = pd.DataFrame(dist_file_info.find({}, projection={\"_id\": 0}))\n",
    "df[\"upload_time\"] = pd.to_datetime(df[\"upload_time\"])\n",
    "print(len(df))\n",
    "df = df[\n",
    "    df[\"packagetype\"].isin([\"sdist\", \"bdist_wheel\", \"bdist_egg\"])\n",
    "    & df[\"filename\"].str.endswith((\".tar.gz\", \".zip\", \".whl\", \".egg\"))\n",
    "]\n",
    "print(len(df))"
   ]
  },
  {
   "cell_type": "code",
   "execution_count": 2,
   "metadata": {},
   "outputs": [
    {
     "data": {
      "text/plain": [
       "bdist_wheel    3805987\n",
       "sdist          3731536\n",
       "bdist_egg       119538\n",
       "Name: packagetype, dtype: int64"
      ]
     },
     "execution_count": 2,
     "metadata": {},
     "output_type": "execute_result"
    }
   ],
   "source": [
    "df[\"packagetype\"].value_counts()"
   ]
  },
  {
   "cell_type": "code",
   "execution_count": 3,
   "metadata": {},
   "outputs": [
    {
     "name": "stdout",
     "output_type": "stream",
     "text": [
      "Number of sdist packages: 377742, Number of packages with bsit: 283885\n",
      "intersection: 246081, sdist-only packages: 131661, bdist-only packages: 37804\n"
     ]
    }
   ],
   "source": [
    "sdist_packages = set(df[df[\"packagetype\"] == \"sdist\"][\"name\"].unique())\n",
    "bdist_packages = set(\n",
    "    df[df[\"packagetype\"].isin([\"bdist_wheel\", \"bdist_egg\"])][\"name\"].unique()\n",
    ")\n",
    "both_packages = sdist_packages.intersection(bdist_packages)\n",
    "print(\n",
    "    f\"Number of sdist packages: {len(sdist_packages)}, Number of packages with bsit: {len(bdist_packages)}\"\n",
    ")\n",
    "print(\n",
    "    f\"intersection: {len(both_packages)}, sdist-only packages: {len(sdist_packages) - len(both_packages)}, bdist-only packages: {len(bdist_packages) - len(both_packages)}\"\n",
    ")"
   ]
  },
  {
   "cell_type": "code",
   "execution_count": 4,
   "metadata": {},
   "outputs": [
    {
     "name": "stdout",
     "output_type": "stream",
     "text": [
      "Number of sdist releases: 3719068, Number of bdist releases: 2892007\n",
      "intersection: 2419223, sdist-only releases: 1299845, bdist-only releases: 472784\n"
     ]
    }
   ],
   "source": [
    "sdist_releases = df[df[\"packagetype\"] == \"sdist\"][[\"name\", \"version\"]].drop_duplicates()\n",
    "bdist_releases = df[df[\"packagetype\"].isin([\"bdist_wheel\", \"bdist_egg\"])][\n",
    "    [\"name\", \"version\"]\n",
    "].drop_duplicates()\n",
    "both_releases = sdist_releases.merge(bdist_releases)\n",
    "print(\n",
    "    f\"Number of sdist releases: {len(sdist_releases)}, Number of bdist releases: {len(bdist_releases)}\"\n",
    ")\n",
    "print(\n",
    "    f\"intersection: {len(both_releases)}, sdist-only releases: {len(sdist_releases) - len(both_releases)}, bdist-only releases: {len(bdist_releases) - len(both_releases)}\"\n",
    ")"
   ]
  },
  {
   "cell_type": "code",
   "execution_count": 5,
   "metadata": {},
   "outputs": [
    {
     "name": "stdout",
     "output_type": "stream",
     "text": [
      "2110910\n",
      "\n",
      "bdist_wheel    1238021\n",
      "sdist           864463\n",
      "bdist_egg         8426\n",
      "Name: packagetype, dtype: int64\n",
      "\n",
      "Number of sdist packages: 118513, Number of packages with bsit: 112306\n",
      "intersection: 96158, sdist-only packages: 22355, bdist-only packages: 16148\n",
      "\n",
      "Number of sdist releases: 864463, Number of bdist releases: 859974\n",
      "intersection: 732751, sdist-only releases: 131712, bdist-only releases: 127223\n"
     ]
    }
   ],
   "source": [
    "recent_df = df[df[\"upload_time\"] > (df[\"upload_time\"].max() - pd.DateOffset(years=1))]\n",
    "print(len(recent_df))\n",
    "print()\n",
    "print(recent_df[\"packagetype\"].value_counts())\n",
    "print()\n",
    "\n",
    "recent_sdist_packages = set(\n",
    "    recent_df[recent_df[\"packagetype\"] == \"sdist\"][\"name\"].unique()\n",
    ")\n",
    "recent_bdist_packages = set(\n",
    "    recent_df[recent_df[\"packagetype\"].isin([\"bdist_wheel\", \"bdist_egg\"])][\n",
    "        \"name\"\n",
    "    ].unique()\n",
    ")\n",
    "recent_both_packages = recent_sdist_packages.intersection(recent_bdist_packages)\n",
    "print(\n",
    "    f\"Number of sdist packages: {len(recent_sdist_packages)}, Number of packages with bsit: {len(recent_bdist_packages)}\"\n",
    ")\n",
    "print(\n",
    "    f\"intersection: {len(recent_both_packages)}, sdist-only packages: {len(recent_sdist_packages) - len(recent_both_packages)}, bdist-only packages: {len(recent_bdist_packages) - len(recent_both_packages)}\"\n",
    ")\n",
    "print()\n",
    "\n",
    "recent_sdist_releases = recent_df[recent_df[\"packagetype\"] == \"sdist\"][\n",
    "    [\"name\", \"version\"]\n",
    "].drop_duplicates()\n",
    "recent_bdist_releases = recent_df[\n",
    "    recent_df[\"packagetype\"].isin([\"bdist_wheel\", \"bdist_egg\"])\n",
    "][[\"name\", \"version\"]].drop_duplicates()\n",
    "recent_both_releases = recent_sdist_releases.merge(recent_bdist_releases)\n",
    "print(\n",
    "    f\"Number of sdist releases: {len(recent_sdist_releases)}, Number of bdist releases: {len(recent_bdist_releases)}\"\n",
    ")\n",
    "print(\n",
    "    f\"intersection: {len(recent_both_releases)}, sdist-only releases: {len(recent_sdist_releases) - len(recent_both_releases)}, bdist-only releases: {len(recent_bdist_releases) - len(recent_both_releases)}\"\n",
    ")"
   ]
  },
  {
   "cell_type": "code",
   "execution_count": 6,
   "metadata": {},
   "outputs": [
    {
     "name": "stdout",
     "output_type": "stream",
     "text": [
      "243529 230818\n"
     ]
    }
   ],
   "source": [
    "from packaging.version import Version\n",
    "\n",
    "\n",
    "def not_prerelease(x):\n",
    "    try:\n",
    "        return not Version(x).is_prerelease\n",
    "    except:\n",
    "        return False\n",
    "\n",
    "\n",
    "sampled_release = both_releases.groupby(\"name\").sample(n=1, random_state=1)\n",
    "print(\n",
    "    len(sampled_release),\n",
    "    len(sampled_release[sampled_release[\"version\"].apply(not_prerelease)]),\n",
    ")"
   ]
  },
  {
   "cell_type": "code",
   "execution_count": 7,
   "metadata": {},
   "outputs": [
    {
     "name": "stdout",
     "output_type": "stream",
     "text": [
      "546610\n"
     ]
    }
   ],
   "source": [
    "sampled_release_info = sampled_release.merge(df)\n",
    "sampled_release_info.to_csv(\"data/sampled_releases.csv\", index=False)\n",
    "print(len(sampled_release_info))"
   ]
  },
  {
   "cell_type": "code",
   "execution_count": null,
   "metadata": {},
   "outputs": [],
   "source": []
  }
 ],
 "metadata": {
  "kernelspec": {
   "display_name": "radar",
   "language": "python",
   "name": "python3"
  },
  "language_info": {
   "codemirror_mode": {
    "name": "ipython",
    "version": 3
   },
   "file_extension": ".py",
   "mimetype": "text/x-python",
   "name": "python",
   "nbconvert_exporter": "python",
   "pygments_lexer": "ipython3",
   "version": "3.11.3"
  },
  "orig_nbformat": 4
 },
 "nbformat": 4,
 "nbformat_minor": 2
}
