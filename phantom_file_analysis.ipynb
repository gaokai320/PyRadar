{
 "cells": [
  {
   "cell_type": "code",
   "execution_count": 1,
   "metadata": {},
   "outputs": [
    {
     "name": "stdout",
     "output_type": "stream",
     "text": [
      "14376 4933\n"
     ]
    }
   ],
   "source": [
    "import json\n",
    "\n",
    "positive_phantom_files = json.load(open(\"data/positive_phantom_files.json\"))\n",
    "negative_phantom_files = json.load(open(\"data/negative_phantom_files.json\"))\n",
    "print(len(positive_phantom_files), len(negative_phantom_files))"
   ]
  },
  {
   "cell_type": "code",
   "execution_count": 2,
   "metadata": {},
   "outputs": [
    {
     "name": "stdout",
     "output_type": "stream",
     "text": [
      "121786 44515\n"
     ]
    }
   ],
   "source": [
    "import os\n",
    "\n",
    "positive_phantom_file_cnt = {}\n",
    "for name, values in positive_phantom_files.items():\n",
    "    for fname, _ in values[\"phantom_file\"]:\n",
    "        f = os.path.basename(fname)\n",
    "        positive_phantom_file_cnt[f] = positive_phantom_file_cnt.get(f, set())\n",
    "        positive_phantom_file_cnt[f].add(name)\n",
    "\n",
    "positive_phantom_file_cnt = {k: len(v) for k, v in positive_phantom_file_cnt.items()}\n",
    "positive_phantom_file_cnt = sorted(\n",
    "    positive_phantom_file_cnt.items(), key=lambda x: x[1], reverse=True\n",
    ")\n",
    "\n",
    "negative_phantom_file_cnt = {}\n",
    "for name, values in negative_phantom_files.items():\n",
    "    for fname, _ in values[\"phantom_file\"]:\n",
    "        f = os.path.basename(fname)\n",
    "        negative_phantom_file_cnt[f] = negative_phantom_file_cnt.get(f, set())\n",
    "        negative_phantom_file_cnt[f].add(name)\n",
    "negative_phantom_file_cnt = {k: len(v) for k, v in negative_phantom_file_cnt.items()}\n",
    "negative_phantom_file_cnt = sorted(\n",
    "    negative_phantom_file_cnt.items(), key=lambda x: x[1], reverse=True\n",
    ")\n",
    "\n",
    "print(len(positive_phantom_file_cnt), len(negative_phantom_file_cnt))"
   ]
  },
  {
   "cell_type": "code",
   "execution_count": 3,
   "metadata": {},
   "outputs": [
    {
     "name": "stdout",
     "output_type": "stream",
     "text": [
      "setup.cfg\t12377\t86.1%\n",
      "setup.py\t2309\t16.1%\n",
      "__init__.py\t916\t6.4%\n",
      "README.md\t660\t4.6%\n",
      "MANIFEST.in\t477\t3.3%\n",
      "_version.py\t413\t2.9%\n",
      "LICENSE\t355\t2.5%\n",
      "pyproject.toml\t322\t2.2%\n",
      "README.rst\t320\t2.2%\n",
      "version.py\t312\t2.2%\n",
      "====================\n",
      "setup.cfg\t4566\t92.6%\n",
      "setup.py\t3769\t76.4%\n",
      "README.md\t3008\t61.0%\n",
      "__init__.py\t2157\t43.7%\n",
      "pyproject.toml\t1612\t32.7%\n",
      "LICENSE\t1376\t27.9%\n",
      "MANIFEST.in\t384\t7.8%\n",
      "README.rst\t373\t7.6%\n",
      "LICENSE.txt\t291\t5.9%\n",
      "utils.py\t285\t5.8%\n"
     ]
    }
   ],
   "source": [
    "for k, v in positive_phantom_file_cnt[:10]:\n",
    "    print(f\"{k}\\t{v}\\t{v/len(positive_phantom_files):.1%}\")\n",
    "print(\"====================\")\n",
    "for k, v in negative_phantom_file_cnt[:10]:\n",
    "    print(f\"{k}\\t{v}\\t{v/len(negative_phantom_files):.1%}\")"
   ]
  },
  {
   "cell_type": "code",
   "execution_count": 4,
   "metadata": {},
   "outputs": [
    {
     "name": "stdout",
     "output_type": "stream",
     "text": [
      "38523 23878\n",
      "setup.py\t2309\t16.1%\n",
      "__init__.py\t916\t6.4%\n",
      "_version.py\t413\t2.9%\n",
      "version.py\t312\t2.2%\n",
      "utils.py\t171\t1.2%\n",
      "__main__.py\t161\t1.1%\n",
      "config.py\t92\t0.6%\n",
      "exceptions.py\t91\t0.6%\n",
      "conf.py\t81\t0.6%\n",
      "base.py\t79\t0.5%\n",
      "====================\n",
      "setup.py\t3769\t76.4%\n",
      "__init__.py\t2157\t43.7%\n",
      "utils.py\t285\t5.8%\n",
      "main.py\t214\t4.3%\n",
      "conf.py\t189\t3.8%\n",
      "example.py\t187\t3.8%\n",
      "__main__.py\t172\t3.5%\n",
      "conftest.py\t155\t3.1%\n",
      "base.py\t148\t3.0%\n",
      "config.py\t139\t2.8%\n"
     ]
    }
   ],
   "source": [
    "positive_phantom_pyfile_cnt = [\n",
    "    [k, _] for k, _ in positive_phantom_file_cnt if k.endswith(\".py\")\n",
    "]\n",
    "negative_phantom_pyfile_cnt = [\n",
    "    [k, _] for k, _ in negative_phantom_file_cnt if k.endswith(\".py\")\n",
    "]\n",
    "print(len(positive_phantom_pyfile_cnt), len(negative_phantom_pyfile_cnt))\n",
    "for k, v in positive_phantom_pyfile_cnt[:10]:\n",
    "    print(f\"{k}\\t{v}\\t{v/len(positive_phantom_files):.1%}\")\n",
    "print(\"====================\")\n",
    "for k, v in negative_phantom_pyfile_cnt[:10]:\n",
    "    print(f\"{k}\\t{v}\\t{v/len(negative_phantom_files):.1%}\")"
   ]
  },
  {
   "cell_type": "code",
   "execution_count": 5,
   "metadata": {},
   "outputs": [
    {
     "name": "stdout",
     "output_type": "stream",
     "text": [
      "Match       14376\n",
      "Mismatch     4933\n",
      "Name: label, dtype: int64\n"
     ]
    },
    {
     "data": {
      "text/html": [
       "<div>\n",
       "<style scoped>\n",
       "    .dataframe tbody tr th:only-of-type {\n",
       "        vertical-align: middle;\n",
       "    }\n",
       "\n",
       "    .dataframe tbody tr th {\n",
       "        vertical-align: top;\n",
       "    }\n",
       "\n",
       "    .dataframe thead th {\n",
       "        text-align: right;\n",
       "    }\n",
       "</style>\n",
       "<table border=\"1\" class=\"dataframe\">\n",
       "  <thead>\n",
       "    <tr style=\"text-align: right;\">\n",
       "      <th>setup_change</th>\n",
       "      <th>no</th>\n",
       "      <th>yes</th>\n",
       "    </tr>\n",
       "    <tr>\n",
       "      <th>label</th>\n",
       "      <th></th>\n",
       "      <th></th>\n",
       "    </tr>\n",
       "  </thead>\n",
       "  <tbody>\n",
       "    <tr>\n",
       "      <th>Match</th>\n",
       "      <td>11968</td>\n",
       "      <td>2408</td>\n",
       "    </tr>\n",
       "    <tr>\n",
       "      <th>Mismatch</th>\n",
       "      <td>92</td>\n",
       "      <td>4841</td>\n",
       "    </tr>\n",
       "  </tbody>\n",
       "</table>\n",
       "</div>"
      ],
      "text/plain": [
       "setup_change     no   yes\n",
       "label                    \n",
       "Match         11968  2408\n",
       "Mismatch         92  4841"
      ]
     },
     "execution_count": 5,
     "metadata": {},
     "output_type": "execute_result"
    }
   ],
   "source": [
    "import pandas as pd\n",
    "\n",
    "df = pd.read_csv(\"data/validator_dataset.csv\", low_memory=False, keep_default_na=False)\n",
    "print(df[\"label\"].value_counts().rename({0: \"Match\", 1: \"Mismatch\"}))\n",
    "\n",
    "df.groupby(\"label\")[\"setup_change\"].value_counts().rename(\n",
    "    {0: \"Match\", 1: \"Mismatch\"}, level=0\n",
    ").rename({0: \"no\", 1: \"yes\"}, level=1).reset_index(name=\"count\").pivot(\n",
    "    index=\"label\", columns=\"setup_change\", values=\"count\"\n",
    ")"
   ]
  },
  {
   "cell_type": "code",
   "execution_count": 6,
   "metadata": {},
   "outputs": [
    {
     "data": {
      "text/html": [
       "<div>\n",
       "<style scoped>\n",
       "    .dataframe tbody tr th:only-of-type {\n",
       "        vertical-align: middle;\n",
       "    }\n",
       "\n",
       "    .dataframe tbody tr th {\n",
       "        vertical-align: top;\n",
       "    }\n",
       "\n",
       "    .dataframe thead th {\n",
       "        text-align: right;\n",
       "    }\n",
       "</style>\n",
       "<table border=\"1\" class=\"dataframe\">\n",
       "  <thead>\n",
       "    <tr style=\"text-align: right;\">\n",
       "      <th></th>\n",
       "      <th></th>\n",
       "      <th>25%</th>\n",
       "      <th>50%</th>\n",
       "      <th>75%</th>\n",
       "      <th>count</th>\n",
       "      <th>max</th>\n",
       "      <th>mean</th>\n",
       "      <th>min</th>\n",
       "      <th>std</th>\n",
       "    </tr>\n",
       "    <tr>\n",
       "      <th>label</th>\n",
       "      <th></th>\n",
       "      <th></th>\n",
       "      <th></th>\n",
       "      <th></th>\n",
       "      <th></th>\n",
       "      <th></th>\n",
       "      <th></th>\n",
       "      <th></th>\n",
       "      <th></th>\n",
       "    </tr>\n",
       "  </thead>\n",
       "  <tbody>\n",
       "    <tr>\n",
       "      <th rowspan=\"5\" valign=\"top\">0</th>\n",
       "      <th>maintainer_max_downloads</th>\n",
       "      <td>2838.00</td>\n",
       "      <td>45483.5</td>\n",
       "      <td>1138050.00</td>\n",
       "      <td>14376.0</td>\n",
       "      <td>523542637.0</td>\n",
       "      <td>1.057890e+07</td>\n",
       "      <td>0.0</td>\n",
       "      <td>4.003142e+07</td>\n",
       "    </tr>\n",
       "    <tr>\n",
       "      <th>num_downloads</th>\n",
       "      <td>957.75</td>\n",
       "      <td>5572.5</td>\n",
       "      <td>130771.25</td>\n",
       "      <td>14376.0</td>\n",
       "      <td>523542637.0</td>\n",
       "      <td>1.349194e+06</td>\n",
       "      <td>0.0</td>\n",
       "      <td>1.110493e+07</td>\n",
       "    </tr>\n",
       "    <tr>\n",
       "      <th>num_maintainer_pkgs</th>\n",
       "      <td>3.00</td>\n",
       "      <td>8.0</td>\n",
       "      <td>25.00</td>\n",
       "      <td>14376.0</td>\n",
       "      <td>13834.0</td>\n",
       "      <td>4.334864e+01</td>\n",
       "      <td>0.0</td>\n",
       "      <td>1.608058e+02</td>\n",
       "    </tr>\n",
       "    <tr>\n",
       "      <th>num_maintainers</th>\n",
       "      <td>1.00</td>\n",
       "      <td>1.0</td>\n",
       "      <td>2.00</td>\n",
       "      <td>14376.0</td>\n",
       "      <td>30.0</td>\n",
       "      <td>1.652824e+00</td>\n",
       "      <td>0.0</td>\n",
       "      <td>1.308228e+00</td>\n",
       "    </tr>\n",
       "    <tr>\n",
       "      <th>num_phantom_pyfiles</th>\n",
       "      <td>0.00</td>\n",
       "      <td>0.0</td>\n",
       "      <td>0.00</td>\n",
       "      <td>14376.0</td>\n",
       "      <td>12633.0</td>\n",
       "      <td>4.806553e+00</td>\n",
       "      <td>0.0</td>\n",
       "      <td>1.384666e+02</td>\n",
       "    </tr>\n",
       "    <tr>\n",
       "      <th rowspan=\"5\" valign=\"top\">1</th>\n",
       "      <th>maintainer_max_downloads</th>\n",
       "      <td>122.00</td>\n",
       "      <td>358.0</td>\n",
       "      <td>1574.00</td>\n",
       "      <td>4933.0</td>\n",
       "      <td>317319809.0</td>\n",
       "      <td>4.913687e+05</td>\n",
       "      <td>0.0</td>\n",
       "      <td>8.152014e+06</td>\n",
       "    </tr>\n",
       "    <tr>\n",
       "      <th>num_downloads</th>\n",
       "      <td>79.00</td>\n",
       "      <td>140.0</td>\n",
       "      <td>364.00</td>\n",
       "      <td>4933.0</td>\n",
       "      <td>1025260.0</td>\n",
       "      <td>1.009186e+03</td>\n",
       "      <td>0.0</td>\n",
       "      <td>1.528706e+04</td>\n",
       "    </tr>\n",
       "    <tr>\n",
       "      <th>num_maintainer_pkgs</th>\n",
       "      <td>1.00</td>\n",
       "      <td>2.0</td>\n",
       "      <td>5.00</td>\n",
       "      <td>4933.0</td>\n",
       "      <td>737.0</td>\n",
       "      <td>1.351125e+01</td>\n",
       "      <td>0.0</td>\n",
       "      <td>4.085446e+01</td>\n",
       "    </tr>\n",
       "    <tr>\n",
       "      <th>num_maintainers</th>\n",
       "      <td>1.00</td>\n",
       "      <td>1.0</td>\n",
       "      <td>1.00</td>\n",
       "      <td>4933.0</td>\n",
       "      <td>13.0</td>\n",
       "      <td>1.044598e+00</td>\n",
       "      <td>0.0</td>\n",
       "      <td>3.574569e-01</td>\n",
       "    </tr>\n",
       "    <tr>\n",
       "      <th>num_phantom_pyfiles</th>\n",
       "      <td>1.00</td>\n",
       "      <td>2.0</td>\n",
       "      <td>5.00</td>\n",
       "      <td>4933.0</td>\n",
       "      <td>18956.0</td>\n",
       "      <td>1.699574e+01</td>\n",
       "      <td>0.0</td>\n",
       "      <td>2.882635e+02</td>\n",
       "    </tr>\n",
       "  </tbody>\n",
       "</table>\n",
       "</div>"
      ],
      "text/plain": [
       "                                    25%      50%         75%    count  \\\n",
       "label                                                                   \n",
       "0     maintainer_max_downloads  2838.00  45483.5  1138050.00  14376.0   \n",
       "      num_downloads              957.75   5572.5   130771.25  14376.0   \n",
       "      num_maintainer_pkgs          3.00      8.0       25.00  14376.0   \n",
       "      num_maintainers              1.00      1.0        2.00  14376.0   \n",
       "      num_phantom_pyfiles          0.00      0.0        0.00  14376.0   \n",
       "1     maintainer_max_downloads   122.00    358.0     1574.00   4933.0   \n",
       "      num_downloads               79.00    140.0      364.00   4933.0   \n",
       "      num_maintainer_pkgs          1.00      2.0        5.00   4933.0   \n",
       "      num_maintainers              1.00      1.0        1.00   4933.0   \n",
       "      num_phantom_pyfiles          1.00      2.0        5.00   4933.0   \n",
       "\n",
       "                                        max          mean  min           std  \n",
       "label                                                                         \n",
       "0     maintainer_max_downloads  523542637.0  1.057890e+07  0.0  4.003142e+07  \n",
       "      num_downloads             523542637.0  1.349194e+06  0.0  1.110493e+07  \n",
       "      num_maintainer_pkgs           13834.0  4.334864e+01  0.0  1.608058e+02  \n",
       "      num_maintainers                  30.0  1.652824e+00  0.0  1.308228e+00  \n",
       "      num_phantom_pyfiles           12633.0  4.806553e+00  0.0  1.384666e+02  \n",
       "1     maintainer_max_downloads  317319809.0  4.913687e+05  0.0  8.152014e+06  \n",
       "      num_downloads               1025260.0  1.009186e+03  0.0  1.528706e+04  \n",
       "      num_maintainer_pkgs             737.0  1.351125e+01  0.0  4.085446e+01  \n",
       "      num_maintainers                  13.0  1.044598e+00  0.0  3.574569e-01  \n",
       "      num_phantom_pyfiles           18956.0  1.699574e+01  0.0  2.882635e+02  "
      ]
     },
     "execution_count": 6,
     "metadata": {},
     "output_type": "execute_result"
    }
   ],
   "source": [
    "df.groupby(\"label\")[\n",
    "    [\n",
    "        \"num_phantom_pyfiles\",\n",
    "        \"num_downloads\",\n",
    "        \"num_maintainers\",\n",
    "        \"num_maintainer_pkgs\",\n",
    "        \"maintainer_max_downloads\",\n",
    "    ]\n",
    "].describe().stack(level=0)"
   ]
  },
  {
   "cell_type": "code",
   "execution_count": 7,
   "metadata": {},
   "outputs": [
    {
     "data": {
      "image/png": "[encoded data removed]",
      "text/plain": [
       "<Figure size 800x150 with 1 Axes>"
      ]
     },
     "metadata": {
      "image/png": {
       "height": 179,
       "width": 734
      }
     },
     "output_type": "display_data"
    }
   ],
   "source": [
    "import matplotlib.pyplot as plt\n",
    "import seaborn as sns\n",
    "\n",
    "%matplotlib inline\n",
    "%config InlineBackend.figure_format = 'retina'\n",
    "\n",
    "\n",
    "def plot_download_dist(data):\n",
    "    with sns.axes_style(\"whitegrid\"):\n",
    "        # sns.set_style(\"whitegrid\")\n",
    "        fig, ax = plt.subplots(figsize=(8, 1.5))\n",
    "        ax.set_xscale(\"symlog\", base=10)\n",
    "        sns.boxplot(\n",
    "            data,\n",
    "            x=\"num_downloads\",\n",
    "            y=\"label\",\n",
    "            orient=\"h\",\n",
    "            showfliers=True,\n",
    "            flierprops={\"marker\": \"o\", \"markerfacecolor\": \"white\", \"markersize\": 4},\n",
    "            ax=ax,\n",
    "        )\n",
    "        ax.set_xlim(-0.2)\n",
    "        ax.set_yticklabels([\"Matched\", \"Mismatched\"])\n",
    "        ax.set_ylabel(None)\n",
    "        ax.set_xlabel(\"Number of Downloads\")\n",
    "        for spine in ax.spines.values():\n",
    "            spine.set_color(\"black\")\n",
    "            spine.set_linewidth(1)\n",
    "\n",
    "        fig.savefig(\"figures/download_comparison.pdf\", bbox_inches=\"tight\")\n",
    "\n",
    "\n",
    "plot_download_dist(df)"
   ]
  },
  {
   "cell_type": "code",
   "execution_count": 8,
   "metadata": {},
   "outputs": [
    {
     "data": {
      "image/png": "[encoded data removed]",
      "text/plain": [
       "<Figure size 800x150 with 1 Axes>"
      ]
     },
     "metadata": {
      "image/png": {
       "height": 179,
       "width": 734
      }
     },
     "output_type": "display_data"
    }
   ],
   "source": [
    "def plot_phantom_pyfiles_dist(data):\n",
    "    with sns.axes_style(\"whitegrid\"):\n",
    "        # sns.set_style(\"whitegrid\")\n",
    "        fig, ax = plt.subplots(figsize=(8, 1.5))\n",
    "        sns.boxplot(\n",
    "            data,\n",
    "            x=\"num_phantom_pyfiles\",\n",
    "            y=\"label\",\n",
    "            orient=\"h\",\n",
    "            showfliers=True,\n",
    "            flierprops={\"marker\": \"o\", \"markerfacecolor\": \"white\", \"markersize\": 4},\n",
    "            ax=ax,\n",
    "        )\n",
    "        ax.set_xscale(\"symlog\", base=10)\n",
    "        ax.set_xlim(-0.1)\n",
    "        ax.set_yticklabels([\"Matched\", \"Mismatched\"])\n",
    "        ax.set_ylabel(None)\n",
    "        ax.set_xlabel(\"Number of Phantom Python Files\")\n",
    "        for spine in ax.spines.values():\n",
    "            spine.set_color(\"black\")\n",
    "            spine.set_linewidth(1)\n",
    "\n",
    "        fig.savefig(\"figures/phantom_pyfiles_comparison.pdf\", bbox_inches=\"tight\")\n",
    "\n",
    "\n",
    "plot_phantom_pyfiles_dist(df)"
   ]
  },
  {
   "cell_type": "code",
   "execution_count": null,
   "metadata": {},
   "outputs": [],
   "source": []
  }
 ],
 "metadata": {
  "kernelspec": {
   "display_name": "radar",
   "language": "python",
   "name": "python3"
  },
  "language_info": {
   "codemirror_mode": {
    "name": "ipython",
    "version": 3
   },
   "file_extension": ".py",
   "mimetype": "text/x-python",
   "name": "python",
   "nbconvert_exporter": "python",
   "pygments_lexer": "ipython3",
   "version": "3.11.3"
  },
  "orig_nbformat": 4
 },
 "nbformat": 4,
 "nbformat_minor": 2
}
