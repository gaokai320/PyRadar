{
 "cells": [
  {
   "cell_type": "code",
   "execution_count": 1,
   "metadata": {},
   "outputs": [
    {
     "name": "stdout",
     "output_type": "stream",
     "text": [
      "4227425\n"
     ]
    }
   ],
   "source": [
    "import pymongo\n",
    "import pandas as pd\n",
    "\n",
    "\n",
    "db = pymongo.MongoClient(\"mongodb://127.0.0.1:27017\")[\"radar\"]\n",
    "col = db[\"baseline_results\"]\n",
    "baseline_results = pd.DataFrame(col.find({}, projection={\"_id\": 0}))\n",
    "print(len(baseline_results))"
   ]
  },
  {
   "cell_type": "code",
   "execution_count": 2,
   "metadata": {},
   "outputs": [
    {
     "name": "stdout",
     "output_type": "stream",
     "text": [
      "Total: 4227425 releases, 423726 packages\n",
      "ossgadget: 3072108 / 72.7% releases, 290122 / 68.5% packages\n",
      "warehouse: 3068148 / 72.6% releases, 289919 / 68.4% packages\n",
      "librariesio: 3161243 / 74.8% releases, 299154 / 70.6% packages\n",
      "py2src_final: 3189944 / 75.5% releases, 297443 / 70.2% packages\n"
     ]
    }
   ],
   "source": [
    "total_releases = len(baseline_results)\n",
    "total_packages = len(baseline_results[\"name\"].unique())\n",
    "print(f\"Total: {total_releases} releases,\", f\"{total_packages} packages\")\n",
    "for column in [\"ossgadget\", \"warehouse\", \"librariesio\", \"py2src_final\"]:\n",
    "    releases = baseline_results[baseline_results[column] != \"\"][\n",
    "        [\"name\", \"version\", column]\n",
    "    ]\n",
    "    num_packages = len(releases[\"name\"].unique())\n",
    "    print(\n",
    "        f\"{column}: {len(releases)} / {len(releases) / total_releases:.1%} releases,\",\n",
    "        f\"{num_packages} / {num_packages / total_packages:.1%} packages\",\n",
    "    )"
   ]
  },
  {
   "cell_type": "code",
   "execution_count": 3,
   "metadata": {},
   "outputs": [
    {
     "data": {
      "text/html": [
       "<div>\n",
       "<style scoped>\n",
       "    .dataframe tbody tr th:only-of-type {\n",
       "        vertical-align: middle;\n",
       "    }\n",
       "\n",
       "    .dataframe tbody tr th {\n",
       "        vertical-align: top;\n",
       "    }\n",
       "\n",
       "    .dataframe thead th {\n",
       "        text-align: right;\n",
       "    }\n",
       "</style>\n",
       "<table border=\"1\" class=\"dataframe\">\n",
       "  <thead>\n",
       "    <tr style=\"text-align: right;\">\n",
       "      <th></th>\n",
       "      <th>num_releases</th>\n",
       "      <th>percentage_releases</th>\n",
       "      <th>num_packages</th>\n",
       "      <th>percentage_packages</th>\n",
       "    </tr>\n",
       "  </thead>\n",
       "  <tbody>\n",
       "    <tr>\n",
       "      <th>github.com</th>\n",
       "      <td>3032984</td>\n",
       "      <td>71.745424</td>\n",
       "      <td>286536</td>\n",
       "      <td>63.490263</td>\n",
       "    </tr>\n",
       "    <tr>\n",
       "      <th>NaN</th>\n",
       "      <td>1066182</td>\n",
       "      <td>25.220601</td>\n",
       "      <td>149798</td>\n",
       "      <td>33.192040</td>\n",
       "    </tr>\n",
       "    <tr>\n",
       "      <th>gitlab.com</th>\n",
       "      <td>68670</td>\n",
       "      <td>1.624393</td>\n",
       "      <td>7533</td>\n",
       "      <td>1.669152</td>\n",
       "    </tr>\n",
       "    <tr>\n",
       "      <th>bitbucket.org</th>\n",
       "      <td>53668</td>\n",
       "      <td>1.269520</td>\n",
       "      <td>6449</td>\n",
       "      <td>1.428961</td>\n",
       "    </tr>\n",
       "    <tr>\n",
       "      <th>sourceforge.net</th>\n",
       "      <td>5918</td>\n",
       "      <td>0.139991</td>\n",
       "      <td>989</td>\n",
       "      <td>0.219141</td>\n",
       "    </tr>\n",
       "    <tr>\n",
       "      <th>svn.apache.org</th>\n",
       "      <td>2</td>\n",
       "      <td>0.000047</td>\n",
       "      <td>1</td>\n",
       "      <td>0.000222</td>\n",
       "    </tr>\n",
       "    <tr>\n",
       "      <th>git-wip-us.apache.org</th>\n",
       "      <td>1</td>\n",
       "      <td>0.000024</td>\n",
       "      <td>1</td>\n",
       "      <td>0.000222</td>\n",
       "    </tr>\n",
       "  </tbody>\n",
       "</table>\n",
       "</div>"
      ],
      "text/plain": [
       "                       num_releases  percentage_releases  num_packages  \\\n",
       "github.com                  3032984            71.745424        286536   \n",
       "NaN                         1066182            25.220601        149798   \n",
       "gitlab.com                    68670             1.624393          7533   \n",
       "bitbucket.org                 53668             1.269520          6449   \n",
       "sourceforge.net                5918             0.139991           989   \n",
       "svn.apache.org                    2             0.000047             1   \n",
       "git-wip-us.apache.org             1             0.000024             1   \n",
       "\n",
       "                       percentage_packages  \n",
       "github.com                       63.490263  \n",
       "NaN                              33.192040  \n",
       "gitlab.com                        1.669152  \n",
       "bitbucket.org                     1.428961  \n",
       "sourceforge.net                   0.219141  \n",
       "svn.apache.org                    0.000222  \n",
       "git-wip-us.apache.org             0.000222  "
      ]
     },
     "execution_count": 3,
     "metadata": {},
     "output_type": "execute_result"
    }
   ],
   "source": [
    "librariesio_results = baseline_results[[\"name\", \"version\", \"librariesio\"]].copy()\n",
    "librariesio_results[\"platform\"] = librariesio_results[\n",
    "    librariesio_results[\"librariesio\"] != \"\"\n",
    "][\"librariesio\"].apply(lambda x: x.split(\"/\")[2])\n",
    "\n",
    "platform_dist = (\n",
    "    librariesio_results[\"platform\"]\n",
    "    .value_counts(dropna=False)\n",
    "    .to_frame(name=\"num_releases\")\n",
    ")\n",
    "platform_dist[\"percentage_releases\"] = (\n",
    "    platform_dist[\"num_releases\"] / platform_dist[\"num_releases\"].sum() * 100\n",
    ")\n",
    "platform_dist[\"num_packages\"] = librariesio_results.groupby(\"platform\", dropna=False)[\n",
    "    \"name\"\n",
    "].apply(lambda x: len(set(x)))\n",
    "platform_dist[\"percentage_packages\"] = (\n",
    "    platform_dist[\"num_packages\"] / platform_dist[\"num_packages\"].sum() * 100\n",
    ")\n",
    "platform_dist"
   ]
  },
  {
   "cell_type": "code",
   "execution_count": 4,
   "metadata": {},
   "outputs": [],
   "source": [
    "github_results = baseline_results[\n",
    "    baseline_results[\"librariesio\"].str.startswith(\"https://github.com\")\n",
    "    | (baseline_results[\"librariesio\"] == \"\")\n",
    "]\n",
    "\n",
    "data = []\n",
    "baselines = [\"ossgadget\", \"warehouse\", \"librariesio\", \"py2src_final\"]\n",
    "for i in range(len(baselines)):\n",
    "    data.append([0] * len(baselines))\n",
    "\n",
    "for i in range(len(baselines)):\n",
    "    for j in range(i, len(baselines)):\n",
    "        results_diff = len(\n",
    "            github_results[github_results[baselines[i]] != github_results[baselines[j]]]\n",
    "        )\n",
    "        data[j][i] = results_diff / len(baseline_results)"
   ]
  },
  {
   "cell_type": "code",
   "execution_count": 20,
   "metadata": {},
   "outputs": [
    {
     "data": {
      "image/png": "[encoded data removed]",
      "text/plain": [
       "<Figure size 400x400 with 1 Axes>"
      ]
     },
     "metadata": {
      "image/png": {
       "height": 349,
       "width": 409
      }
     },
     "output_type": "display_data"
    }
   ],
   "source": [
    "import numpy as np\n",
    "import seaborn as sns\n",
    "import matplotlib.pyplot as plt\n",
    "\n",
    "%matplotlib inline\n",
    "%config InlineBackend.figure_format = 'retina'\n",
    "\n",
    "\n",
    "def plot_diff_heatmap(data):\n",
    "    with sns.axes_style():\n",
    "        fig, ax = plt.subplots(figsize=(4, 4))\n",
    "        corr = pd.DataFrame(data, index=baselines, columns=baselines)\n",
    "        mapper = {\n",
    "            \"ossgadget\": \"OSSGadget\",\n",
    "            \"warehouse\": \"Warehouse\",\n",
    "            \"librariesio\": \"Libraries.io\",\n",
    "            \"py2src_final\": \"Py2Src\",\n",
    "        }\n",
    "        corr.rename(index=mapper, columns=mapper, inplace=True)\n",
    "\n",
    "        # Create a mask\n",
    "        mask = np.triu(np.ones_like(corr, dtype=bool))\n",
    "\n",
    "        # Create a custom divergin palette\n",
    "        cmap = sns.color_palette(\"mako\", as_cmap=True)\n",
    "\n",
    "        sns.heatmap(\n",
    "            corr,\n",
    "            mask=mask,\n",
    "            center=0,\n",
    "            annot=True,\n",
    "            fmt=\".2%\",\n",
    "            square=True,\n",
    "            cmap=cmap,\n",
    "            ax=ax,\n",
    "            cbar=False,\n",
    "            linewidths=0.2,\n",
    "            annot_kws={\"fontsize\": 12},\n",
    "        )\n",
    "        ax.set_xticklabels(ax.get_xticklabels(), rotation=0, ha=\"center\", fontsize=9)\n",
    "        ax.set_yticklabels(ax.get_yticklabels(), fontsize=9)\n",
    "        fig.savefig(\"figures/baseline_diff_heatmap.pdf\", bbox_inches=\"tight\")\n",
    "\n",
    "\n",
    "plot_diff_heatmap(data)"
   ]
  },
  {
   "cell_type": "code",
   "execution_count": 6,
   "metadata": {},
   "outputs": [
    {
     "name": "stdout",
     "output_type": "stream",
     "text": [
      "511480 51456\n"
     ]
    }
   ],
   "source": [
    "baseline_diff = github_results[\n",
    "    (github_results[\"ossgadget\"] != github_results[\"warehouse\"])\n",
    "    | (github_results[\"ossgadget\"] != github_results[\"librariesio\"])\n",
    "    | (github_results[\"ossgadget\"] != github_results[\"py2src_final\"])\n",
    "]\n",
    "print(len(baseline_diff), len(baseline_diff[\"name\"].unique()))"
   ]
  },
  {
   "cell_type": "code",
   "execution_count": 7,
   "metadata": {},
   "outputs": [
    {
     "name": "stdout",
     "output_type": "stream",
     "text": [
      "159159\n",
      "930 2.2262643017359998\n",
      "10454 25.025125817578648\n",
      "43280 103.60507417111192\n",
      "10650 25.494317003750968\n",
      "43171 103.34414641961811\n",
      "50674 121.30507228620436\n"
     ]
    }
   ],
   "source": [
    "diff_packages = []\n",
    "\n",
    "for i in range(len(baselines)):\n",
    "    for j in range(i + 1, len(baselines)):\n",
    "        diff_packages.append(\n",
    "            baseline_diff[(baseline_diff[baselines[i]] != baseline_diff[baselines[j]])][\n",
    "                \"name\"\n",
    "            ].unique()\n",
    "        )\n",
    "\n",
    "total = 0\n",
    "for v in diff_packages:\n",
    "    total += len(v)\n",
    "print(total)\n",
    "for v in diff_packages:\n",
    "    print(len(v), len(v) / total * 381)"
   ]
  },
  {
   "cell_type": "code",
   "execution_count": 8,
   "metadata": {},
   "outputs": [
    {
     "name": "stdout",
     "output_type": "stream",
     "text": [
      "381\n"
     ]
    }
   ],
   "source": [
    "sample = [2, 25, 104, 26, 103, 121]\n",
    "cnt = 0\n",
    "res = pd.DataFrame()\n",
    "for i in range(len(baselines)):\n",
    "    for j in range(i + 1, len(baselines)):\n",
    "        tmp_diff = baseline_diff[\n",
    "            (baseline_diff[baselines[i]] != baseline_diff[baselines[j]])\n",
    "        ]\n",
    "        sample_packages = np.random.choice(\n",
    "            diff_packages[cnt], sample[cnt], replace=False\n",
    "        )\n",
    "        sample_diff = (\n",
    "            tmp_diff[tmp_diff[\"name\"].isin(sample_packages)].groupby(\"name\").sample(1)\n",
    "        )\n",
    "        res = pd.concat([res, sample_diff], axis=0)\n",
    "        cnt += 1\n",
    "print(len(res))"
   ]
  },
  {
   "cell_type": "code",
   "execution_count": 15,
   "metadata": {},
   "outputs": [
    {
     "data": {
      "text/html": [
       "<div>\n",
       "<style scoped>\n",
       "    .dataframe tbody tr th:only-of-type {\n",
       "        vertical-align: middle;\n",
       "    }\n",
       "\n",
       "    .dataframe tbody tr th {\n",
       "        vertical-align: top;\n",
       "    }\n",
       "\n",
       "    .dataframe thead th {\n",
       "        text-align: right;\n",
       "    }\n",
       "</style>\n",
       "<table border=\"1\" class=\"dataframe\">\n",
       "  <thead>\n",
       "    <tr style=\"text-align: right;\">\n",
       "      <th></th>\n",
       "      <th>reason</th>\n",
       "      <th>count</th>\n",
       "      <th>percentage</th>\n",
       "    </tr>\n",
       "  </thead>\n",
       "  <tbody>\n",
       "    <tr>\n",
       "      <th>0</th>\n",
       "      <td>URL Redirection</td>\n",
       "      <td>237</td>\n",
       "      <td>62.204724</td>\n",
       "    </tr>\n",
       "    <tr>\n",
       "      <th>1</th>\n",
       "      <td>Project Urls Fields</td>\n",
       "      <td>48</td>\n",
       "      <td>12.598425</td>\n",
       "    </tr>\n",
       "    <tr>\n",
       "      <th>2</th>\n",
       "      <td>Badge</td>\n",
       "      <td>47</td>\n",
       "      <td>12.335958</td>\n",
       "    </tr>\n",
       "    <tr>\n",
       "      <th>3</th>\n",
       "      <td>Readthedocs</td>\n",
       "      <td>34</td>\n",
       "      <td>8.923885</td>\n",
       "    </tr>\n",
       "    <tr>\n",
       "      <th>4</th>\n",
       "      <td>URL Matching</td>\n",
       "      <td>20</td>\n",
       "      <td>5.249344</td>\n",
       "    </tr>\n",
       "    <tr>\n",
       "      <th>5</th>\n",
       "      <td>Homepage</td>\n",
       "      <td>15</td>\n",
       "      <td>3.937008</td>\n",
       "    </tr>\n",
       "    <tr>\n",
       "      <th>6</th>\n",
       "      <td>URL Selection</td>\n",
       "      <td>4</td>\n",
       "      <td>1.049869</td>\n",
       "    </tr>\n",
       "    <tr>\n",
       "      <th>7</th>\n",
       "      <td>GitHub Reserved Names</td>\n",
       "      <td>2</td>\n",
       "      <td>0.524934</td>\n",
       "    </tr>\n",
       "  </tbody>\n",
       "</table>\n",
       "</div>"
      ],
      "text/plain": [
       "                  reason  count  percentage\n",
       "0        URL Redirection    237   62.204724\n",
       "1    Project Urls Fields     48   12.598425\n",
       "2                  Badge     47   12.335958\n",
       "3            Readthedocs     34    8.923885\n",
       "4           URL Matching     20    5.249344\n",
       "5               Homepage     15    3.937008\n",
       "6          URL Selection      4    1.049869\n",
       "7  GitHub Reserved Names      2    0.524934"
      ]
     },
     "execution_count": 15,
     "metadata": {},
     "output_type": "execute_result"
    }
   ],
   "source": [
    "diff_reasons = pd.read_csv(\n",
    "    \"data/baseline_diff_samples.csv\", low_memory=False, keep_default_na=False\n",
    ")\n",
    "reason_cnt = {}\n",
    "for reasons in diff_reasons[\"reason\"].values:\n",
    "    for reason in reasons.split(\",\"):\n",
    "        reason_cnt[reason] = reason_cnt.get(reason, 0) + 1\n",
    "reason_cnt = sorted(reason_cnt.items(), key=lambda x: x[1], reverse=True)\n",
    "reason_cnt = pd.DataFrame(\n",
    "    [[k, v, 100 * v / len(diff_reasons)] for k, v in reason_cnt],\n",
    "    columns=[\"reason\", \"count\", \"percentage\"],\n",
    ")\n",
    "reason_cnt"
   ]
  },
  {
   "cell_type": "code",
   "execution_count": null,
   "metadata": {},
   "outputs": [],
   "source": []
  }
 ],
 "metadata": {
  "kernelspec": {
   "display_name": "base",
   "language": "python",
   "name": "python3"
  },
  "language_info": {
   "codemirror_mode": {
    "name": "ipython",
    "version": 3
   },
   "file_extension": ".py",
   "mimetype": "text/x-python",
   "name": "python",
   "nbconvert_exporter": "python",
   "pygments_lexer": "ipython3",
   "version": "3.11.3"
  },
  "orig_nbformat": 4
 },
 "nbformat": 4,
 "nbformat_minor": 2
}
