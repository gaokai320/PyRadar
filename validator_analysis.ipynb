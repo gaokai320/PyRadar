{
 "cells": [
  {
   "cell_type": "code",
   "execution_count": 1,
   "metadata": {},
   "outputs": [
    {
     "name": "stdout",
     "output_type": "stream",
     "text": [
      "248123\n",
      "247683\n",
      "228448\n"
     ]
    }
   ],
   "source": [
    "from joblib import load\n",
    "import pandas as pd\n",
    "\n",
    "df = pd.read_csv(\"data/validate_all_pypi.csv\", low_memory=False, keep_default_na=False)\n",
    "print(len(df))\n",
    "df = df[(df[\"num_phantom_pyfiles\"] >= 0) & (df[\"num_maintainers\"] > 0)]\n",
    "print(len(df))\n",
    "train_df = pd.read_csv(\"data/validator_dataset.csv\", keep_default_na=False)\n",
    "df = df[~df[\"name\"].isin(train_df[\"name\"])]\n",
    "print(len(df))\n",
    "features = [\n",
    "    \"num_phantom_pyfiles\",\n",
    "    \"setup_change\",\n",
    "    \"name_similarity\",\n",
    "    \"tag_match\",\n",
    "    \"num_maintainers\",\n",
    "    \"num_maintainer_pkgs\",\n",
    "]\n",
    "for name in [\"rf\"]:\n",
    "    model = load(f\"models/best_{name}.joblib\")\n",
    "    df.loc[:, name] = model.predict_proba(df[features])[:, 1]"
   ]
  },
  {
   "cell_type": "code",
   "execution_count": null,
   "metadata": {},
   "outputs": [],
   "source": [
    "df.sort_values(\"rf\", ascending=False).head(100).to_csv(\n",
    "    \"data/validator_evaluation.csv\", index=False\n",
    ")"
   ]
  },
  {
   "cell_type": "code",
   "execution_count": 21,
   "metadata": {},
   "outputs": [
    {
     "data": {
      "text/plain": [
       "Incorrect    85\n",
       "Correct      15\n",
       "Name: label, dtype: int64"
      ]
     },
     "execution_count": 21,
     "metadata": {},
     "output_type": "execute_result"
    }
   ],
   "source": [
    "evaluation_df = pd.read_csv(\"data/validator_evaluation.csv\", keep_default_na=False)\n",
    "evaluation_df[\"label\"].value_counts()"
   ]
  },
  {
   "cell_type": "code",
   "execution_count": 23,
   "metadata": {},
   "outputs": [
    {
     "data": {
      "text/plain": [
       "count    15.000000\n",
       "mean      0.195108\n",
       "std       0.043333\n",
       "min       0.090909\n",
       "25%       0.173750\n",
       "50%       0.200000\n",
       "75%       0.226496\n",
       "max       0.255319\n",
       "Name: name_similarity, dtype: float64"
      ]
     },
     "execution_count": 23,
     "metadata": {},
     "output_type": "execute_result"
    }
   ],
   "source": [
    "evaluation_df[evaluation_df[\"label\"] == \"Correct\"][\"name_similarity\"].describe()"
   ]
  },
  {
   "cell_type": "code",
   "execution_count": null,
   "metadata": {},
   "outputs": [],
   "source": []
  }
 ],
 "metadata": {
  "kernelspec": {
   "display_name": "radar",
   "language": "python",
   "name": "python3"
  },
  "language_info": {
   "codemirror_mode": {
    "name": "ipython",
    "version": 3
   },
   "file_extension": ".py",
   "mimetype": "text/x-python",
   "name": "python",
   "nbconvert_exporter": "python",
   "pygments_lexer": "ipython3",
   "version": "3.11.3"
  },
  "orig_nbformat": 4
 },
 "nbformat": 4,
 "nbformat_minor": 2
}
