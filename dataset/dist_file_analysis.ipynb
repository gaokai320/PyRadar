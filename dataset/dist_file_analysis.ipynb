{
 "cells": [
  {
   "cell_type": "code",
   "execution_count": 1,
   "metadata": {},
   "outputs": [
    {
     "name": "stdout",
     "output_type": "stream",
     "text": [
      "7685017\n"
     ]
    }
   ],
   "source": [
    "from pymongo import MongoClient\n",
    "import pandas as pd\n",
    "\n",
    "dist_file_info = MongoClient(\"127.0.0.1\", 27017)[\"radar\"][\"distribution_file_info\"]\n",
    "df = pd.DataFrame(dist_file_info.find({}, projection={\"_id\": 0}))\n",
    "print(len(df))"
   ]
  },
  {
   "cell_type": "code",
   "execution_count": 2,
   "metadata": {},
   "outputs": [
    {
     "data": {
      "text/plain": [
       "bdist_wheel      3805987\n",
       "sdist            3735365\n",
       "bdist_egg         119540\n",
       "bdist_wininst      17024\n",
       "bdist_dumb          5963\n",
       "bdist_msi            584\n",
       "bdist_rpm            509\n",
       "bdist_dmg             45\n",
       "Name: packagetype, dtype: int64"
      ]
     },
     "execution_count": 2,
     "metadata": {},
     "output_type": "execute_result"
    }
   ],
   "source": [
    "df[\"packagetype\"].value_counts()"
   ]
  },
  {
   "cell_type": "code",
   "execution_count": 18,
   "metadata": {},
   "outputs": [
    {
     "name": "stdout",
     "output_type": "stream",
     "text": [
      "Number of sdist packages: 377879, Number of packages with bsit: 283886\n",
      "intersection: 246094, sdist-only packages: 131785, bdist-only packages: 37792\n"
     ]
    }
   ],
   "source": [
    "sdist_packages = set(df[df[\"packagetype\"] == \"sdist\"][\"name\"].unique())\n",
    "bdist_packages = set(\n",
    "    df[df[\"packagetype\"].isin([\"bdist_wheel\", \"bdist_egg\"])][\"name\"].unique()\n",
    ")\n",
    "both_packages = sdist_packages.intersection(bdist_packages)\n",
    "print(\n",
    "    f\"Number of sdist packages: {len(sdist_packages)}, Number of packages with bsit: {len(bdist_packages)}\"\n",
    ")\n",
    "print(\n",
    "    f\"intersection: {len(both_packages)}, sdist-only packages: {len(sdist_packages) - len(both_packages)}, bdist-only packages: {len(bdist_packages) - len(both_packages)}\"\n",
    ")"
   ]
  },
  {
   "cell_type": "code",
   "execution_count": 19,
   "metadata": {},
   "outputs": [
    {
     "name": "stdout",
     "output_type": "stream",
     "text": [
      "Number of sdist releases: 3720506, Number of bdist releases: 2892008\n",
      "intersection: 2419437, sdist-only releases: 1301069, bdist-only releases: 472571\n"
     ]
    }
   ],
   "source": [
    "sdist_releases = df[df[\"packagetype\"] == \"sdist\"][[\"name\", \"version\"]].drop_duplicates()\n",
    "bdist_releases = df[df[\"packagetype\"].isin([\"bdist_wheel\", \"bdist_egg\"])][\n",
    "    [\"name\", \"version\"]\n",
    "].drop_duplicates()\n",
    "both_releases = sdist_releases.merge(bdist_releases)\n",
    "print(\n",
    "    f\"Number of sdist releases: {len(sdist_releases)}, Number of bdist releases: {len(bdist_releases)}\"\n",
    ")\n",
    "print(\n",
    "    f\"intersection: {len(both_releases)}, sdist-only releases: {len(sdist_releases) - len(both_releases)}, bdist-only releases: {len(bdist_releases) - len(both_releases)}\"\n",
    ")"
   ]
  },
  {
   "cell_type": "code",
   "execution_count": 33,
   "metadata": {},
   "outputs": [
    {
     "name": "stdout",
     "output_type": "stream",
     "text": [
      "243545 230852\n"
     ]
    }
   ],
   "source": [
    "from packaging.version import Version\n",
    "\n",
    "\n",
    "def not_prerelease(x):\n",
    "    try:\n",
    "        return not Version(x).is_prerelease\n",
    "    except:\n",
    "        return False\n",
    "\n",
    "\n",
    "sampled_release = both_releases.groupby(\"name\").sample(n=1, random_state=1)\n",
    "print(\n",
    "    len(sampled_release),\n",
    "    len(sampled_release[sampled_release[\"version\"].apply(not_prerelease)]),\n",
    ")"
   ]
  },
  {
   "cell_type": "code",
   "execution_count": 36,
   "metadata": {},
   "outputs": [
    {
     "name": "stdout",
     "output_type": "stream",
     "text": [
      "548224\n"
     ]
    }
   ],
   "source": [
    "sampled_release_info = sampled_release.merge(df)\n",
    "print(len(sampled_release_info))\n",
    "sampled_release_info.to_csv(\"../data/selected_dist.csv\", index=False)"
   ]
  },
  {
   "cell_type": "code",
   "execution_count": null,
   "metadata": {},
   "outputs": [],
   "source": []
  }
 ],
 "metadata": {
  "kernelspec": {
   "display_name": "radar",
   "language": "python",
   "name": "python3"
  },
  "language_info": {
   "codemirror_mode": {
    "name": "ipython",
    "version": 3
   },
   "file_extension": ".py",
   "mimetype": "text/x-python",
   "name": "python",
   "nbconvert_exporter": "python",
   "pygments_lexer": "ipython3",
   "version": "3.11.3"
  },
  "orig_nbformat": 4
 },
 "nbformat": 4,
 "nbformat_minor": 2
}
